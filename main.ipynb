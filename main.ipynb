{
 "cells": [
  {
   "cell_type": "code",
   "execution_count": 1,
   "metadata": {},
   "outputs": [],
   "source": [
    "from langchain_community.llms import Ollama\n",
    "from langchain_core.prompts import PromptTemplate\n",
    "\n",
    "# Load the LLaMA3 model\n",
    "llm  = Ollama(model=\"llama3:8b\")\n",
    "\n",
    "def call_llma(prompt):    \n",
    "    #for chunks in llm.stream(prompt, stop=[\"<|eot_id|>\"]):\n",
    "      #  print(chunks)\n",
    "    response = llm.invoke(prompt, stop=[\"<|eot_id|>\"])\n",
    "    return response\n",
    "def call_llma_stream(prompt):    \n",
    "    for chunks in llm.stream(prompt, stop=[\"<|eot_id|>\"]):\n",
    "      print(chunks)\n",
    "\n",
    "    \n"
   ]
  },
  {
   "cell_type": "code",
   "execution_count": 2,
   "metadata": {},
   "outputs": [],
   "source": [
    "prompt = \"What is the capital of France?\""
   ]
  },
  {
   "cell_type": "code",
   "execution_count": 3,
   "metadata": {},
   "outputs": [
    {
     "name": "stdout",
     "output_type": "stream",
     "text": [
      "The capital of France is Paris.\n"
     ]
    }
   ],
   "source": [
    "# wait for the response\n",
    "response = call_llma(prompt)\n",
    "print(response)"
   ]
  },
  {
   "cell_type": "code",
   "execution_count": 4,
   "metadata": {},
   "outputs": [
    {
     "name": "stdout",
     "output_type": "stream",
     "text": [
      "The\n",
      " capital\n",
      " of\n",
      " France\n",
      " is\n",
      " Paris\n",
      ".\n",
      "\n"
     ]
    }
   ],
   "source": [
    "# Display stream\n",
    "call_llma_stream(prompt)"
   ]
  }
 ],
 "metadata": {
  "kernelspec": {
   "display_name": "env",
   "language": "python",
   "name": "python3"
  },
  "language_info": {
   "codemirror_mode": {
    "name": "ipython",
    "version": 3
   },
   "file_extension": ".py",
   "mimetype": "text/x-python",
   "name": "python",
   "nbconvert_exporter": "python",
   "pygments_lexer": "ipython3",
   "version": "3.12.2"
  }
 },
 "nbformat": 4,
 "nbformat_minor": 2
}
